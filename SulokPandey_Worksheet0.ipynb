{
 "cells": [
  {
   "cell_type": "markdown",
   "metadata": {},
   "source": [
    "Sulok Pandey\n",
    "\n",
    "TO Do File "
   ]
  },
  {
   "cell_type": "markdown",
   "metadata": {},
   "source": [
    "4.1 Exercise on Functions:"
   ]
  },
  {
   "cell_type": "code",
   "execution_count": 6,
   "metadata": {},
   "outputs": [
    {
     "name": "stdout",
     "output_type": "stream",
     "text": [
      "a: Meters to Feet\n",
      "b: Feet to Meters\n",
      "c: Kilograms to Pounds\n",
      "d: Pounds to Kilograms\n",
      "e: Liters to Gallons\n",
      "f: Gallons to Liters\n",
      "Converted value: 32.8084\n"
     ]
    }
   ],
   "source": [
    "#Task1\n",
    "def convert(unit, value):\n",
    "    if unit == 'a':\n",
    "        return value * 3.28084  \n",
    "    elif unit == 'b':\n",
    "        return value / 3.28084  \n",
    "    elif unit == 'c':\n",
    "        return value * 2.20462  \n",
    "    elif unit == 'd':\n",
    "        return value / 2.20462  \n",
    "    elif unit == 'e':\n",
    "        return value * 0.264172  \n",
    "    elif unit == 'f':\n",
    "        return value / 0.264172  \n",
    "    else:\n",
    "        return None\n",
    "\n",
    "print(\"a: Meters to Feet\\nb: Feet to Meters\\nc: Kilograms to Pounds\\nd: Pounds to Kilograms\\ne: Liters to Gallons\\nf: Gallons to Liters\")\n",
    "choice = input(\"Enter choice (a-f): \").lower()\n",
    "\n",
    "value = float(input(\"Enter value: \"))\n",
    "result = convert(choice, value)\n",
    "print(f\"Converted value: {result:.4f}\")\n",
    "\n",
    "\n",
    "    "
   ]
  },
  {
   "cell_type": "code",
   "execution_count": 7,
   "metadata": {},
   "outputs": [
    {
     "name": "stdout",
     "output_type": "stream",
     "text": [
      "Select an operation:\n",
      "1. Sum\n",
      "2. Average\n",
      "3. Maximum\n",
      "4. Minimum\n",
      "Sum: 27.0\n"
     ]
    }
   ],
   "source": [
    "#Task2\n",
    "def find_sum(numbers):\n",
    "    return sum(numbers)\n",
    "\n",
    "def find_average(numbers):\n",
    "    return sum(numbers) / len(numbers)\n",
    "\n",
    "def find_maximum(numbers):\n",
    "    return max(numbers)\n",
    "\n",
    "def find_minimum(numbers):\n",
    "    return min(numbers)\n",
    "\n",
    "def main():\n",
    "    print(\"Select an operation:\")\n",
    "    print(\"1. Sum\")\n",
    "    print(\"2. Average\")\n",
    "    print(\"3. Maximum\")\n",
    "    print(\"4. Minimum\")\n",
    "\n",
    "    try:\n",
    "        operation = int(input(\"which operation do you want to do: \"))\n",
    "\n",
    "        if operation not in [1, 2, 3, 4]:\n",
    "            print(\"Invalid selection.\")\n",
    "            return\n",
    "\n",
    "        numbers_input = input(\"Enter List of number: \")\n",
    "        numbers = list(map(float, numbers_input.split()))\n",
    "        if operation == 1:\n",
    "            print(\"Sum:\", find_sum(numbers))\n",
    "        elif operation == 2:\n",
    "            print(\"Average:\", find_average(numbers))\n",
    "        elif operation == 3:\n",
    "            print(\"Maximum:\", find_maximum(numbers))\n",
    "        elif operation == 4:\n",
    "            print(\"Minimum:\", find_minimum(numbers))\n",
    "\n",
    "    except ValueError:\n",
    "        print(\"Invalid Input\")\n",
    "\n",
    "if __name__ == \"__main__\":\n",
    "    main()\n"
   ]
  },
  {
   "cell_type": "markdown",
   "metadata": {},
   "source": [
    "4.2"
   ]
  },
  {
   "cell_type": "code",
   "execution_count": 8,
   "metadata": {},
   "outputs": [
    {
     "name": "stdout",
     "output_type": "stream",
     "text": [
      "[1, 3, 5, 7, 9]\n",
      "[3, 4, 5, 6]\n",
      "[9, 8, 7, 6, 5, 4, 3, 2, 1]\n",
      "[2, 3, 4, 5, 6, 7, 8]\n",
      "[1, 2, 3, 4]\n",
      "[7, 8, 9]\n",
      "[8, 6, 4, 2]\n"
     ]
    }
   ],
   "source": [
    "def extract_every_other(lst):\n",
    "    return lst[::2]\n",
    "\n",
    "def get_sublist(lst, start, end):\n",
    "    return lst[start:end+1]\n",
    "\n",
    "def reverse_list(lst):\n",
    "    return lst[::-1]\n",
    "\n",
    "def remove_first_last(lst):\n",
    "    return lst[1:-1]\n",
    "\n",
    "def get_first_n(lst, n):\n",
    "    return lst[:n]\n",
    "\n",
    "def get_last_n(lst, n):\n",
    "    return lst[-n:]\n",
    "\n",
    "def reverse_skip(lst):\n",
    "    return lst[-2::-2]\n",
    "\n",
    "lst = [1, 2, 3, 4, 5, 6, 7, 8, 9]\n",
    "print(extract_every_other(lst))\n",
    "print(get_sublist(lst, 2, 5))\n",
    "print(reverse_list(lst))\n",
    "print(remove_first_last(lst))\n",
    "print(get_first_n(lst, 4))\n",
    "print(get_last_n(lst, 3))\n",
    "print(reverse_skip(lst))\n",
    "\n"
   ]
  },
  {
   "cell_type": "code",
   "execution_count": 9,
   "metadata": {},
   "outputs": [],
   "source": [
    "def flatten(lst):\n",
    "    flattened = []\n",
    "    for item in lst:\n",
    "        if isinstance(item, list):\n",
    "            flattened.extend(flatten(item))\n",
    "        else:\n",
    "            flattened.append(item)\n",
    "    return flattened\n",
    "\n",
    "def access_nested_element(lst, indices):\n",
    "    for index in indices:\n",
    "        lst = lst[index]\n",
    "    return lst\n",
    "\n",
    "def sum_nested(lst):\n",
    "    total = 0\n",
    "    for item in lst:\n",
    "        if isinstance(item, list):\n",
    "            total += sum_nested(item)\n",
    "        else:\n",
    "            total += item\n",
    "    return total\n",
    "\n",
    "def remove_element(lst, elem):\n",
    "    for i in range(len(lst)):\n",
    "        if isinstance(lst[i], list):\n",
    "            lst[i] = remove_element(lst[i], elem)\n",
    "        else:\n",
    "            if lst[i] == elem:\n",
    "                lst[i] = None\n",
    "    return [item for item in lst if item is not None]\n",
    "\n",
    "def find_max(lst):\n",
    "    max_val = float('-inf')\n",
    "    for item in lst:\n",
    "        if isinstance(item, list):\n",
    "            max_val = max(max_val, find_max(item))\n",
    "        else:\n",
    "            max_val = max(max_val, item)\n",
    "    return max_val\n",
    "\n",
    "def count_occurrences(lst, elem):\n",
    "    count = 0\n",
    "    for item in lst:\n",
    "        if isinstance(item, list):\n",
    "            count += count_occurrences(item, elem)\n",
    "        else:\n",
    "            if item == elem:\n",
    "                count += 1\n",
    "    return count\n",
    "\n",
    "def deep_flatten(lst):\n",
    "    flattened = []\n",
    "    for item in lst:\n",
    "        if isinstance(item, list):\n",
    "            flattened.extend(deep_flatten(item))\n",
    "        else:\n",
    "            flattened.append(item)\n",
    "    return flattened\n",
    "\n",
    "def average_nested(lst):\n",
    "    def recursive_sum_and_count(lst):\n",
    "        total_sum = 0\n",
    "        count = 0\n",
    "        for item in lst:\n",
    "            if isinstance(item, list):\n",
    "                nested_sum, nested_count = recursive_sum_and_count(item)\n",
    "                total_sum += nested_sum\n",
    "                count += nested_count\n",
    "            else:\n",
    "                total_sum += item\n",
    "                count += 1\n",
    "        return total_sum, count\n",
    "\n",
    "    total_sum, count = recursive_sum_and_count(lst)\n",
    "    \n",
    "    if count == 0:\n",
    "        return 0\n",
    "    else:\n",
    "        return total_sum / count"
   ]
  },
  {
   "cell_type": "code",
   "execution_count": 10,
   "metadata": {},
   "outputs": [
    {
     "name": "stdout",
     "output_type": "stream",
     "text": [
      "[1, 2, 3, 4, 5, 6]\n",
      "[4, 5]\n",
      "21\n",
      "[[1], [3], [4, 5]]\n",
      "6\n",
      "Occurrences of 2: 0\n",
      "[1, 2, 3, 4, 5, 6, 7, 8]\n",
      "3.5\n"
     ]
    }
   ],
   "source": [
    "lst = [[1, 2], [3, [4, 5]], 6]\n",
    "print(flatten(lst)) \n",
    "print(access_nested_element(lst, [1, 1]))\n",
    "print(sum_nested(lst)) \n",
    "lst2 = [[1, 2], [3, 2], [4, 5]]\n",
    "print(remove_element(lst2, 2))\n",
    "print(find_max(lst))\n",
    "print(\"Occurrences of 2:\", count_occurrences(lst2, 2)) \n",
    "lst3 = [[[1, 2], [3, 4]], [[5, 6], [7, 8]]]\n",
    "print(deep_flatten(lst3)) \n",
    "lst4 = [[1, 2], [3, 4], [5, 6]]\n",
    "print(average_nested(lst4))"
   ]
  },
  {
   "cell_type": "markdown",
   "metadata": {},
   "source": [
    "Numpy"
   ]
  },
  {
   "cell_type": "code",
   "execution_count": 24,
   "metadata": {},
   "outputs": [
    {
     "name": "stdout",
     "output_type": "stream",
     "text": [
      "[[4.9e-324 9.9e-324]\n",
      " [1.5e-323 2.0e-323]]\n",
      "\n",
      " [[1. 1.]\n",
      " [1. 1.]\n",
      " [1. 1.]\n",
      " [1. 1.]]\n",
      "\n",
      " [[7 7 7]\n",
      " [7 7 7]\n",
      " [7 7 7]]\n",
      "\n",
      " [[0 0]\n",
      " [0 0]]\n",
      "\n",
      " [[1 1]\n",
      " [1 1]]\n",
      "\n",
      " [1 2 3 4]\n"
     ]
    }
   ],
   "source": [
    "#problem 1\n",
    "import numpy as np\n",
    "empty_array = np.empty((2, 2))\n",
    "print(empty_array)\n",
    "\n",
    "ones_array = np.ones((4, 2))\n",
    "print(\"\\n\",ones_array)\n",
    "\n",
    "shape = (3, 3)\n",
    "fill_value = 7\n",
    "filled_array = np.full(shape, fill_value)\n",
    "print(\"\\n\",filled_array)\n",
    "\n",
    "given_array = np.array([[1, 2], [3, 4]])\n",
    "zeros_like_array = np.zeros_like(given_array)\n",
    "print(\"\\n\",zeros_like_array)\n",
    "\n",
    "ones_like_array = np.ones_like(given_array)\n",
    "print(\"\\n\",ones_like_array)\n",
    "\n",
    "new_list = [1, 2, 3, 4]\n",
    "numpy_array = np.array(new_list)\n",
    "print(\"\\n\",numpy_array)\n"
   ]
  },
  {
   "cell_type": "code",
   "execution_count": 25,
   "metadata": {},
   "outputs": [
    {
     "name": "stdout",
     "output_type": "stream",
     "text": [
      "\n",
      " [10 11 12 13 14 15 16 17 18 19 20 21 22 23 24 25 26 27 28 29 30 31 32 33\n",
      " 34 35 36 37 38 39 40 41 42 43 44 45 46 47 48 49]\n",
      "\n",
      " [[0 1 2]\n",
      " [3 4 5]\n",
      " [6 7 8]]\n",
      "\n",
      " [[1. 0. 0.]\n",
      " [0. 1. 0.]\n",
      " [0. 0. 1.]]\n",
      "\n",
      " [0.36187099 0.97780777 0.19014954 0.9236983  0.65486139 0.40565677\n",
      " 0.26075247 0.44975575 0.35260201 0.95042633 0.17239281 0.97894919\n",
      " 0.46796775 0.62801133 0.00159569 0.68063599 0.7765102  0.53649366\n",
      " 0.41798367 0.00753603 0.15546183 0.69838144 0.56606107 0.22327103\n",
      " 0.73261396 0.71158695 0.89486546 0.86558032 0.61168277 0.49708354]\n",
      "\n",
      "Mean 0.5384082009633199\n",
      "\n",
      " [[0.72140651 0.64266318 0.12663767 0.35094009 0.78035879 0.39078732\n",
      "  0.12996791 0.45699225 0.19841457 0.23280769]\n",
      " [0.24581133 0.22529658 0.31196555 0.46731117 0.85866572 0.31456723\n",
      "  0.40756826 0.84674909 0.71913779 0.43500471]\n",
      " [0.46770579 0.36800747 0.74988933 0.62188342 0.46257556 0.36945601\n",
      "  0.91596189 0.06104216 0.40333041 0.46671979]\n",
      " [0.12409684 0.72877907 0.7464633  0.0565117  0.72313376 0.32896653\n",
      "  0.6564904  0.53174339 0.33379408 0.61081953]\n",
      " [0.97215429 0.05997105 0.57306764 0.21893559 0.16681506 0.43588615\n",
      "  0.57506564 0.13543901 0.72543255 0.00687348]\n",
      " [0.44257613 0.16739182 0.41641969 0.18460904 0.78530071 0.05746559\n",
      "  0.00962642 0.41840333 0.3786934  0.24204969]\n",
      " [0.66896713 0.11049114 0.05881948 0.07526304 0.8990034  0.68458632\n",
      "  0.14903785 0.74377122 0.12615925 0.4505522 ]\n",
      " [0.70922274 0.91455606 0.16866931 0.92742511 0.63467688 0.17658238\n",
      "  0.93687492 0.38764519 0.11056851 0.59269478]\n",
      " [0.12519928 0.92790062 0.58117473 0.52159058 0.9136505  0.98905792\n",
      "  0.54579062 0.17891957 0.3160045  0.70868126]\n",
      " [0.51940384 0.1851067  0.97821088 0.82033615 0.95543152 0.14449205\n",
      "  0.04813497 0.09475202 0.23812678 0.07654486]]\n",
      "\n",
      "Minmun 0.0068734829234479156\n",
      "\n",
      "Maximum 0.989057919401666\n",
      "\n",
      " [0. 0. 0. 0. 1. 0. 0. 0. 0. 0.]\n",
      "\n",
      " [0 4 0 0 2 1]\n",
      "\n",
      " [[1. 1. 1. 1. 1.]\n",
      " [1. 0. 0. 0. 1.]\n",
      " [1. 0. 0. 0. 1.]\n",
      " [1. 0. 0. 0. 1.]\n",
      " [1. 1. 1. 1. 1.]]\n",
      "\n",
      " [[0 1 0 1 0 1 0 1]\n",
      " [1 0 1 0 1 0 1 0]\n",
      " [0 1 0 1 0 1 0 1]\n",
      " [1 0 1 0 1 0 1 0]\n",
      " [0 1 0 1 0 1 0 1]\n",
      " [1 0 1 0 1 0 1 0]\n",
      " [0 1 0 1 0 1 0 1]\n",
      " [1 0 1 0 1 0 1 0]]\n"
     ]
    }
   ],
   "source": [
    "#problem 2\n",
    "\n",
    "arr1 = np.arange(10, 50)\n",
    "print(\"\\n\", arr1)\n",
    "\n",
    "arr2 = np.arange(9).reshape(3, 3)\n",
    "print(\"\\n\", arr2)\n",
    "\n",
    "arr3 = np.eye(3)\n",
    "print(\"\\n\", arr3)\n",
    "\n",
    "arr4 = np.random.random(30)\n",
    "mean_arr4 = arr4.mean()\n",
    "print(\"\\n\", arr4)\n",
    "print(\"\\nMean\", mean_arr4)\n",
    "\n",
    "arr5 = np.random.random((10, 10))\n",
    "min_value = arr5.min()\n",
    "max_value = arr5.max()\n",
    "print(\"\\n\", arr5)\n",
    "print(\"\\nMinmun\", min_value)\n",
    "print(\"\\nMaximum\", max_value)\n",
    "\n",
    "arr6 = np.zeros(10)\n",
    "arr6[4] = 1 \n",
    "print(\"\\n\", arr6)\n",
    "\n",
    "arr7 = np.array([1, 2, 0, 0, 4, 0])\n",
    "reversed_arr7 = arr7[::-1]\n",
    "print(\"\\n\", reversed_arr7)\n",
    "\n",
    "arr8 = np.ones((5, 5))\n",
    "arr8[1:-1, 1:-1] = 0\n",
    "print(\"\\n\", arr8)\n",
    "\n",
    "arr9 = np.zeros((8, 8), dtype=int)\n",
    "arr9[1::2, ::2] = 1\n",
    "arr9[::2, 1::2] = 1\n",
    "print(\"\\n\", arr9)\n"
   ]
  },
  {
   "cell_type": "code",
   "execution_count": 26,
   "metadata": {},
   "outputs": [
    {
     "name": "stdout",
     "output_type": "stream",
     "text": [
      "Addition of x and y:\n",
      " [[ 6  8]\n",
      " [10 13]]\n",
      "Subtraction of x and y:\n",
      " [[-4 -4]\n",
      " [-4 -3]]\n",
      "Multiplying x by 2:\n",
      " [[ 2  4]\n",
      " [ 6 10]]\n",
      "Multiplying y by 3:\n",
      " [[15 18]\n",
      " [21 24]]\n",
      "Dot product of v and w: 219\n",
      "Dot product of x and v:\n",
      " [29 77]\n",
      "Dot product of x and y:\n",
      " [[19 22]\n",
      " [50 58]]\n",
      "Concatenating x and y along row:\n",
      " [[1 2]\n",
      " [3 5]\n",
      " [5 6]\n",
      " [7 8]]\n",
      "Concatenating v and w along column:\n",
      " [[ 9 11]\n",
      " [10 12]]\n"
     ]
    }
   ],
   "source": [
    "x = np.array([[1, 2], [3, 5]])\n",
    "y = np.array([[5, 6], [7, 8]])\n",
    "v = np.array([9, 10])\n",
    "w = np.array([11, 12])\n",
    "\n",
    "addition = x + y\n",
    "print(\"Addition of x and y:\\n\", addition)\n",
    "\n",
    "subtraction = x - y\n",
    "print(\"Subtraction of x and y:\\n\", subtraction)\n",
    "\n",
    "multiplication_x = x * 2\n",
    "multiplication_y = y * 3\n",
    "print(\"Multiplying x by 2:\\n\", multiplication_x)\n",
    "print(\"Multiplying y by 3:\\n\", multiplication_y)\n",
    "\n",
    "dot_vw = np.dot(v, w)\n",
    "dot_xv = np.dot(x, v)\n",
    "dot_xy = np.dot(x, y)\n",
    "\n",
    "print(\"Dot product of v and w:\", dot_vw)\n",
    "print(\"Dot product of x and v:\\n\", dot_xv)\n",
    "print(\"Dot product of x and y:\\n\", dot_xy)\n",
    "\n",
    "concatenate_xy_row = np.concatenate((x, y), axis=0)\n",
    "concatenate_vw_col = np.concatenate((v.reshape(-1, 1), w.reshape(-1, 1)), axis=1)\n",
    "\n",
    "print(\"Concatenating x and y along row:\\n\", concatenate_xy_row)\n",
    "print(\"Concatenating v and w along column:\\n\", concatenate_vw_col)\n",
    "\n",
    "\n",
    "#concatenate_xv = np.concatenate((x, v), axis=0) \n",
    "#The error occurs beacause x is a 2d array and v is 1d array"
   ]
  },
  {
   "cell_type": "code",
   "execution_count": 28,
   "metadata": {},
   "outputs": [
    {
     "name": "stdout",
     "output_type": "stream",
     "text": [
      "A * A_inverse:\n",
      " [[1.00000000e+00 0.00000000e+00]\n",
      " [1.77635684e-15 1.00000000e+00]]\n",
      "AB:\n",
      " [[23 13]\n",
      " [51 29]]\n",
      "BA:\n",
      " [[36 44]\n",
      " [13 16]]\n",
      "Transpose of AB:\n",
      " [[23 51]\n",
      " [13 29]]\n",
      "\n",
      " [[23 51]\n",
      " [13 29]]\n",
      "Solution for x, y, z:\n",
      " [[ 2.]\n",
      " [ 1.]\n",
      " [-2.]]\n"
     ]
    }
   ],
   "source": [
    "A = np.array([[3, 4], [7, 8]])\n",
    "B = np.array([[5, 3], [2, 1]])\n",
    "\n",
    "A_inverse = np.linalg.inv(A)\n",
    "identity_matrix = np.dot(A, A_inverse)\n",
    "print(\"A * A_inverse:\\n\", identity_matrix)\n",
    "\n",
    "AB = np.dot(A, B)\n",
    "BA = np.dot(B, A)\n",
    "print(\"AB:\\n\", AB)\n",
    "print(\"BA:\\n\", BA)\n",
    "\n",
    "AB_Tp = (np.dot(A, B)).T\n",
    "BTp_ATp = np.dot(B.T, A.T)\n",
    "\n",
    "print(\"Transpose of AB:\\n\", AB_Tp)\n",
    "print(\"\\n\", BTp_ATp)\n",
    "\n",
    "A_eq = np.array([[2, -3, 1], [1, -1, 2], [3, 1, -1]])\n",
    "B_eq = np.array([[-1], [-3], [9]])\n",
    "A_inv_eq = np.linalg.inv(A_eq)\n",
    "X_eq = np.dot(A_inv_eq, B_eq)\n",
    "print(\"Solution for x, y, z:\\n\", X_eq)\n"
   ]
  },
  {
   "cell_type": "code",
   "execution_count": 29,
   "metadata": {},
   "outputs": [],
   "source": [
    "#Experiment\n",
    "import time"
   ]
  },
  {
   "cell_type": "code",
   "execution_count": null,
   "metadata": {},
   "outputs": [
    {
     "name": "stdout",
     "output_type": "stream",
     "text": [
      "0.1266310214996338\n"
     ]
    }
   ],
   "source": [
    "list_a = [i for i in range(1000000)]\n",
    "list_b = [i for i in range(1000000)]\n",
    "\n",
    "start_time = time.time()\n",
    "result_list_addition = [list_a[i] + list_b[i] for i in range(1000000)]\n",
    "end_time = time.time()\n",
    "total_time=end_time-start_time\n",
    "print(total_time)\n"
   ]
  },
  {
   "cell_type": "code",
   "execution_count": 35,
   "metadata": {},
   "outputs": [
    {
     "name": "stdout",
     "output_type": "stream",
     "text": [
      "0.0029859542846679688\n"
     ]
    }
   ],
   "source": [
    "np_a = np.array(list_a)\n",
    "np_b = np.array(list_b)\n",
    "\n",
    "start_time = time.time()\n",
    "result_np_addition = np_a + np_b\n",
    "end_time = time.time()\n",
    "total_time=end_time-start_time\n",
    "print(total_time)"
   ]
  },
  {
   "cell_type": "code",
   "execution_count": 37,
   "metadata": {},
   "outputs": [
    {
     "name": "stdout",
     "output_type": "stream",
     "text": [
      "0.1172175407409668\n"
     ]
    }
   ],
   "source": [
    "start_time = time.time()\n",
    "result_list_multiplication = [list_a[i] * list_b[i] for i in range(1000000)]\n",
    "end_time = time.time()\n",
    "total_time=end_time-start_time\n",
    "print(total_time)"
   ]
  },
  {
   "cell_type": "code",
   "execution_count": 38,
   "metadata": {},
   "outputs": [
    {
     "name": "stdout",
     "output_type": "stream",
     "text": [
      "0.0050051212310791016\n"
     ]
    }
   ],
   "source": [
    "start_time = time.time()\n",
    "result_np_multiplication = np_a * np_b\n",
    "end_time = time.time()\n",
    "total_time=end_time-start_time\n",
    "print(total_time)"
   ]
  },
  {
   "cell_type": "code",
   "execution_count": 39,
   "metadata": {},
   "outputs": [
    {
     "name": "stdout",
     "output_type": "stream",
     "text": [
      "0.10648202896118164\n"
     ]
    }
   ],
   "source": [
    "start_time = time.time()\n",
    "dot_product_list = sum(list_a[i] * list_b[i] for i in range(1000000))\n",
    "end_time = time.time()\n",
    "total_time=end_time-start_time\n",
    "print(total_time)"
   ]
  },
  {
   "cell_type": "code",
   "execution_count": 40,
   "metadata": {},
   "outputs": [
    {
     "name": "stdout",
     "output_type": "stream",
     "text": [
      "0.0019941329956054688\n"
     ]
    }
   ],
   "source": [
    "start_time = time.time()\n",
    "dot_product_np = np.dot(np_a, np_b)\n",
    "end_time = time.time()\n",
    "total_time=end_time-start_time\n",
    "print(total_time)"
   ]
  },
  {
   "cell_type": "code",
   "execution_count": 41,
   "metadata": {},
   "outputs": [
    {
     "name": "stdout",
     "output_type": "stream",
     "text": [
      "245.68488574028015\n"
     ]
    }
   ],
   "source": [
    "matrix_a = [[i + j for i in range(1000)] for j in range(1000)]\n",
    "matrix_b = [[i + j for i in range(1000)] for j in range(1000)]\n",
    "\n",
    "start_time = time.time()\n",
    "result_matrix_multiplication_list = [[sum(matrix_a[i][k] * matrix_b[k][j] for k in range(1000)) for j in range(1000)] for i in range(1000)]\n",
    "end_time = time.time()\n",
    "total_time=end_time-start_time\n",
    "print(total_time)"
   ]
  },
  {
   "cell_type": "code",
   "execution_count": 42,
   "metadata": {},
   "outputs": [
    {
     "name": "stdout",
     "output_type": "stream",
     "text": [
      "3.5778136253356934\n"
     ]
    }
   ],
   "source": [
    "np_matrix_a = np.array(matrix_a)\n",
    "np_matrix_b = np.array(matrix_b)\n",
    "\n",
    "start_time = time.time()\n",
    "result_matrix_multiplication_np = np.matmul(np_matrix_a, np_matrix_b)\n",
    "end_time = time.time()\n",
    "total_time=end_time-start_time\n",
    "print(total_time)"
   ]
  }
 ],
 "metadata": {
  "kernelspec": {
   "display_name": "Python 3",
   "language": "python",
   "name": "python3"
  },
  "language_info": {
   "codemirror_mode": {
    "name": "ipython",
    "version": 3
   },
   "file_extension": ".py",
   "mimetype": "text/x-python",
   "name": "python",
   "nbconvert_exporter": "python",
   "pygments_lexer": "ipython3",
   "version": "3.11.9"
  }
 },
 "nbformat": 4,
 "nbformat_minor": 2
}
